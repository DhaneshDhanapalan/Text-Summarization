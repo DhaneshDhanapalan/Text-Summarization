{
  "nbformat": 4,
  "nbformat_minor": 0,
  "metadata": {
    "colab": {
      "name": "CODE_6.ipynb",
      "provenance": []
    },
    "kernelspec": {
      "name": "python3",
      "display_name": "Python 3"
    },
    "language_info": {
      "name": "python"
    }
  },
  "cells": [
    {
      "cell_type": "code",
      "execution_count": 22,
      "metadata": {
        "id": "zl-nth1fHwZS"
      },
      "outputs": [],
      "source": [
        ""
      ]
    },
    {
      "cell_type": "code",
      "source": [
        ""
      ],
      "metadata": {
        "id": "gJjeV5YZJ0pe"
      },
      "execution_count": 22,
      "outputs": []
    },
    {
      "cell_type": "code",
      "source": [
        "\n",
        "  \n"
      ],
      "metadata": {
        "id": "nN1vcxamKKJg"
      },
      "execution_count": null,
      "outputs": []
    },
    {
      "cell_type": "code",
      "source": [
        "# Import the required libraries\n",
        "import os\n",
        "\n",
        "# Define the location of the directory\n",
        "path =r\"/content/DATASET\"\n",
        "\n",
        "# Change the directory\n",
        "os.chdir(path)\n",
        "\n",
        "def read_files(file_path):\n",
        "   with open(file_path, 'r') as file:\n",
        "      print(file.read())\n",
        "\n",
        "# Iterate over all the files in the directory\n",
        "for file in os.listdir():\n",
        "   if file.endswith('.txt'):\n",
        "      # Create the filepath of particular file\n",
        "      file_path =f\"{path}/{file}\"\n",
        "\n",
        "      txt = read_files(file_path)\n",
        "      print(txt)\n"
      ],
      "metadata": {
        "id": "gNaWqkcfLQWk"
      },
      "execution_count": 23,
      "outputs": []
    },
    {
      "cell_type": "code",
      "source": [
        "from collections import defaultdict\n",
        "from pathlib import Path\n",
        "import pandas as pd\n",
        "\n",
        "my_dir_path = \"/content/DATASET\"\n",
        "\n",
        "results = defaultdict(list)\n",
        "for file in Path(my_dir_path).iterdir():\n",
        "    with open(file, \"r\") as file_open:\n",
        "        results[\"file_name\"].append(file.name)\n",
        "        results[\"text\"].append(file_open.read())\n",
        "        search_word = \"@highlight\"\n",
        "        if(search_word in file.open().read()):\n",
        "          results[\"summary\"].append(file.open().read().partition(search_word)[2])\n",
        "df = pd.DataFrame(results)"
      ],
      "metadata": {
        "id": "sAdm_s4OMm63"
      },
      "execution_count": 24,
      "outputs": []
    },
    {
      "cell_type": "code",
      "source": [
        "display(df)"
      ],
      "metadata": {
        "colab": {
          "base_uri": "https://localhost:8080/",
          "height": 1000
        },
        "id": "ZPf5RuoFLsRk",
        "outputId": "11a1584a-6493-4ff0-f3fc-40b99fd8d4ae"
      },
      "execution_count": 25,
      "outputs": [
        {
          "output_type": "display_data",
          "data": {
            "text/html": [
              "\n",
              "  <div id=\"df-2ce4ea1a-156c-447a-8707-3677db12bdce\">\n",
              "    <div class=\"colab-df-container\">\n",
              "      <div>\n",
              "<style scoped>\n",
              "    .dataframe tbody tr th:only-of-type {\n",
              "        vertical-align: middle;\n",
              "    }\n",
              "\n",
              "    .dataframe tbody tr th {\n",
              "        vertical-align: top;\n",
              "    }\n",
              "\n",
              "    .dataframe thead th {\n",
              "        text-align: right;\n",
              "    }\n",
              "</style>\n",
              "<table border=\"1\" class=\"dataframe\">\n",
              "  <thead>\n",
              "    <tr style=\"text-align: right;\">\n",
              "      <th></th>\n",
              "      <th>file_name</th>\n",
              "      <th>text</th>\n",
              "      <th>summary</th>\n",
              "    </tr>\n",
              "  </thead>\n",
              "  <tbody>\n",
              "    <tr>\n",
              "      <th>0</th>\n",
              "      <td>000e009f6b1d954d827c9a550f3f24a5474ee82b.story</td>\n",
              "      <td>(CNN) -- Kyle White now has two pieces of metal to wear -- one, a bracelet inscribed with the names of his six comrades killed in an ambush in Afghanistan, the other, a Medal of Honor given to him...</td>\n",
              "      <td>\\n\\nNEW: Kyle White: \"Without this team, there would be no Medal of Honor\"\\n\\n@highlight\\n\\nNEW: He vows to \"live up to the responsibility\" of having the top military award\\n\\n@highlight\\n\\nNEW: O...</td>\n",
              "    </tr>\n",
              "    <tr>\n",
              "      <th>1</th>\n",
              "      <td>00a9a975bde07882d77b6fc4382589791b92ef00.story</td>\n",
              "      <td>(CNN) -- Affectionately known in his home city of Madrid as \"the wise man of Hortaleza,\" Luis Aragones left the legacy of helping Spain's ascension to the top of world football.\\n\\nAragones, whose...</td>\n",
              "      <td>\\n\\nFormer Spain national coach Luis Aragones passes away in Madrid on Saturday\\n\\n@highlight\\n\\nThe 75-year-old had been suffering with health issues since his retirement last year\\n\\n@highlight\\...</td>\n",
              "    </tr>\n",
              "    <tr>\n",
              "      <th>2</th>\n",
              "      <td>000cd1ee0098c4d510a03ddc97d11764448ebac2.story</td>\n",
              "      <td>Kathmandu, Nepal (CNN) -- A ferocious leopard may have killed 15 people in Nepal in a 15-month span, its latest victim a 4-year-old boy that the creature dragged away into the jungle to eat.\\n\\nTh...</td>\n",
              "      <td>\\n\\nA 4-year-old boy is the latest victim of a man-eating leopard, a local police chief says\\n\\n@highlight\\n\\nHe suspects one leopard is behind the deaths of 15 people in the past 15 months\\n\\n@hi...</td>\n",
              "    </tr>\n",
              "    <tr>\n",
              "      <th>3</th>\n",
              "      <td>00a7e6767322697aa9236e2135aecc9785c6b410.story</td>\n",
              "      <td>(CNN) -- When Lukas Hartmann, 29, signed up for 23andMe's at-home genetic testing service, there were no surprises in his results.\\n\\nThe Berliner learned he would probably die from \"a mix of hear...</td>\n",
              "      <td>\\n\\nFDA has ordered 23andMe to stop sales of its $99 home genetic testing kits\\n\\n@highlight\\n\\n23andMe supporters took to social media to protest the FDA's decision\\n\\n@highlight\\n\\nGenetic testi...</td>\n",
              "    </tr>\n",
              "    <tr>\n",
              "      <th>4</th>\n",
              "      <td>000ca3fc9d877f8d4bb2ebd1d6858c69be571fd8.story</td>\n",
              "      <td>HAMILTON, Bermuda (CNN) -- Four Chinese nationals of Uyghur ethnicity who had been held at the U.S. military's Guantanamo Bay, Cuba, detention facility have been resettled in Bermuda, officials sa...</td>\n",
              "      <td>\\n\\nNEW: Bermudan premier: \"Above all, this was a humanitarian act\"\\n\\n@highlight\\n\\nUyghurs are native Chinese Muslims; the detainees were apprehended in Pakistan\\n\\n@highlight\\n\\nChina urges U.S...</td>\n",
              "    </tr>\n",
              "    <tr>\n",
              "      <th>5</th>\n",
              "      <td>000c835555db62e319854d9f8912061cdca1893e.story</td>\n",
              "      <td>(CNN)For the second time during his papacy, Pope Francis has announced a new group of bishops and archbishops set to become cardinals -- and they come from all over the world.\\n\\nPope Francis said...</td>\n",
              "      <td>\\n\\nThe 15 new cardinals will be installed on February 14\\n\\n@highlight\\n\\nThey come from countries such as Myanmar and Tonga\\n\\n@highlight\\n\\nNo Americans made the list this time or the previous ...</td>\n",
              "    </tr>\n",
              "    <tr>\n",
              "      <th>6</th>\n",
              "      <td>00a6c0823ba92e5a055d90133e8b66fa9028c2d7.story</td>\n",
              "      <td>The mayor of the eastern Ukrainian city of Kharkiv underwent emergency surgery after being shot in the back, city officials and police said Monday, amid continuing unrest in the region.\\n\\nThe att...</td>\n",
              "      <td>\\n\\nThe European Union announces it's imposing sanctions on 15 people\\n\\n@highlight\\n\\nDefense ministers from the United States and Russia discuss Ukraine\\n\\n@highlight\\n\\nU.S. imposes sanctions a...</td>\n",
              "    </tr>\n",
              "    <tr>\n",
              "      <th>7</th>\n",
              "      <td>00a2aef1e18d125960da51e167a3d22ed8416c09.story</td>\n",
              "      <td>(CNN) -- The 54 men and 14 boys rescued after being found chained this week at an Islamic religious school in Pakistan have been reunited with their families or placed in shelters, authorities sai...</td>\n",
              "      <td>\\n\\nCaptive boys and men were rescued from an Islamic religious school in Pakistan\\n\\n@highlight\\n\\nThey were reunited with their families this week\\n\\n@highlight\\n\\nThe facility was a school and ...</td>\n",
              "    </tr>\n",
              "  </tbody>\n",
              "</table>\n",
              "</div>\n",
              "      <button class=\"colab-df-convert\" onclick=\"convertToInteractive('df-2ce4ea1a-156c-447a-8707-3677db12bdce')\"\n",
              "              title=\"Convert this dataframe to an interactive table.\"\n",
              "              style=\"display:none;\">\n",
              "        \n",
              "  <svg xmlns=\"http://www.w3.org/2000/svg\" height=\"24px\"viewBox=\"0 0 24 24\"\n",
              "       width=\"24px\">\n",
              "    <path d=\"M0 0h24v24H0V0z\" fill=\"none\"/>\n",
              "    <path d=\"M18.56 5.44l.94 2.06.94-2.06 2.06-.94-2.06-.94-.94-2.06-.94 2.06-2.06.94zm-11 1L8.5 8.5l.94-2.06 2.06-.94-2.06-.94L8.5 2.5l-.94 2.06-2.06.94zm10 10l.94 2.06.94-2.06 2.06-.94-2.06-.94-.94-2.06-.94 2.06-2.06.94z\"/><path d=\"M17.41 7.96l-1.37-1.37c-.4-.4-.92-.59-1.43-.59-.52 0-1.04.2-1.43.59L10.3 9.45l-7.72 7.72c-.78.78-.78 2.05 0 2.83L4 21.41c.39.39.9.59 1.41.59.51 0 1.02-.2 1.41-.59l7.78-7.78 2.81-2.81c.8-.78.8-2.07 0-2.86zM5.41 20L4 18.59l7.72-7.72 1.47 1.35L5.41 20z\"/>\n",
              "  </svg>\n",
              "      </button>\n",
              "      \n",
              "  <style>\n",
              "    .colab-df-container {\n",
              "      display:flex;\n",
              "      flex-wrap:wrap;\n",
              "      gap: 12px;\n",
              "    }\n",
              "\n",
              "    .colab-df-convert {\n",
              "      background-color: #E8F0FE;\n",
              "      border: none;\n",
              "      border-radius: 50%;\n",
              "      cursor: pointer;\n",
              "      display: none;\n",
              "      fill: #1967D2;\n",
              "      height: 32px;\n",
              "      padding: 0 0 0 0;\n",
              "      width: 32px;\n",
              "    }\n",
              "\n",
              "    .colab-df-convert:hover {\n",
              "      background-color: #E2EBFA;\n",
              "      box-shadow: 0px 1px 2px rgba(60, 64, 67, 0.3), 0px 1px 3px 1px rgba(60, 64, 67, 0.15);\n",
              "      fill: #174EA6;\n",
              "    }\n",
              "\n",
              "    [theme=dark] .colab-df-convert {\n",
              "      background-color: #3B4455;\n",
              "      fill: #D2E3FC;\n",
              "    }\n",
              "\n",
              "    [theme=dark] .colab-df-convert:hover {\n",
              "      background-color: #434B5C;\n",
              "      box-shadow: 0px 1px 3px 1px rgba(0, 0, 0, 0.15);\n",
              "      filter: drop-shadow(0px 1px 2px rgba(0, 0, 0, 0.3));\n",
              "      fill: #FFFFFF;\n",
              "    }\n",
              "  </style>\n",
              "\n",
              "      <script>\n",
              "        const buttonEl =\n",
              "          document.querySelector('#df-2ce4ea1a-156c-447a-8707-3677db12bdce button.colab-df-convert');\n",
              "        buttonEl.style.display =\n",
              "          google.colab.kernel.accessAllowed ? 'block' : 'none';\n",
              "\n",
              "        async function convertToInteractive(key) {\n",
              "          const element = document.querySelector('#df-2ce4ea1a-156c-447a-8707-3677db12bdce');\n",
              "          const dataTable =\n",
              "            await google.colab.kernel.invokeFunction('convertToInteractive',\n",
              "                                                     [key], {});\n",
              "          if (!dataTable) return;\n",
              "\n",
              "          const docLinkHtml = 'Like what you see? Visit the ' +\n",
              "            '<a target=\"_blank\" href=https://colab.research.google.com/notebooks/data_table.ipynb>data table notebook</a>'\n",
              "            + ' to learn more about interactive tables.';\n",
              "          element.innerHTML = '';\n",
              "          dataTable['output_type'] = 'display_data';\n",
              "          await google.colab.output.renderOutput(dataTable, element);\n",
              "          const docLink = document.createElement('div');\n",
              "          docLink.innerHTML = docLinkHtml;\n",
              "          element.appendChild(docLink);\n",
              "        }\n",
              "      </script>\n",
              "    </div>\n",
              "  </div>\n",
              "  "
            ],
            "text/plain": [
              "                                        file_name  \\\n",
              "0  000e009f6b1d954d827c9a550f3f24a5474ee82b.story   \n",
              "1  00a9a975bde07882d77b6fc4382589791b92ef00.story   \n",
              "2  000cd1ee0098c4d510a03ddc97d11764448ebac2.story   \n",
              "3  00a7e6767322697aa9236e2135aecc9785c6b410.story   \n",
              "4  000ca3fc9d877f8d4bb2ebd1d6858c69be571fd8.story   \n",
              "5  000c835555db62e319854d9f8912061cdca1893e.story   \n",
              "6  00a6c0823ba92e5a055d90133e8b66fa9028c2d7.story   \n",
              "7  00a2aef1e18d125960da51e167a3d22ed8416c09.story   \n",
              "\n",
              "                                                                                                                                                                                                      text  \\\n",
              "0  (CNN) -- Kyle White now has two pieces of metal to wear -- one, a bracelet inscribed with the names of his six comrades killed in an ambush in Afghanistan, the other, a Medal of Honor given to him...   \n",
              "1  (CNN) -- Affectionately known in his home city of Madrid as \"the wise man of Hortaleza,\" Luis Aragones left the legacy of helping Spain's ascension to the top of world football.\\n\\nAragones, whose...   \n",
              "2  Kathmandu, Nepal (CNN) -- A ferocious leopard may have killed 15 people in Nepal in a 15-month span, its latest victim a 4-year-old boy that the creature dragged away into the jungle to eat.\\n\\nTh...   \n",
              "3  (CNN) -- When Lukas Hartmann, 29, signed up for 23andMe's at-home genetic testing service, there were no surprises in his results.\\n\\nThe Berliner learned he would probably die from \"a mix of hear...   \n",
              "4  HAMILTON, Bermuda (CNN) -- Four Chinese nationals of Uyghur ethnicity who had been held at the U.S. military's Guantanamo Bay, Cuba, detention facility have been resettled in Bermuda, officials sa...   \n",
              "5  (CNN)For the second time during his papacy, Pope Francis has announced a new group of bishops and archbishops set to become cardinals -- and they come from all over the world.\\n\\nPope Francis said...   \n",
              "6  The mayor of the eastern Ukrainian city of Kharkiv underwent emergency surgery after being shot in the back, city officials and police said Monday, amid continuing unrest in the region.\\n\\nThe att...   \n",
              "7  (CNN) -- The 54 men and 14 boys rescued after being found chained this week at an Islamic religious school in Pakistan have been reunited with their families or placed in shelters, authorities sai...   \n",
              "\n",
              "                                                                                                                                                                                                   summary  \n",
              "0  \\n\\nNEW: Kyle White: \"Without this team, there would be no Medal of Honor\"\\n\\n@highlight\\n\\nNEW: He vows to \"live up to the responsibility\" of having the top military award\\n\\n@highlight\\n\\nNEW: O...  \n",
              "1  \\n\\nFormer Spain national coach Luis Aragones passes away in Madrid on Saturday\\n\\n@highlight\\n\\nThe 75-year-old had been suffering with health issues since his retirement last year\\n\\n@highlight\\...  \n",
              "2  \\n\\nA 4-year-old boy is the latest victim of a man-eating leopard, a local police chief says\\n\\n@highlight\\n\\nHe suspects one leopard is behind the deaths of 15 people in the past 15 months\\n\\n@hi...  \n",
              "3  \\n\\nFDA has ordered 23andMe to stop sales of its $99 home genetic testing kits\\n\\n@highlight\\n\\n23andMe supporters took to social media to protest the FDA's decision\\n\\n@highlight\\n\\nGenetic testi...  \n",
              "4  \\n\\nNEW: Bermudan premier: \"Above all, this was a humanitarian act\"\\n\\n@highlight\\n\\nUyghurs are native Chinese Muslims; the detainees were apprehended in Pakistan\\n\\n@highlight\\n\\nChina urges U.S...  \n",
              "5  \\n\\nThe 15 new cardinals will be installed on February 14\\n\\n@highlight\\n\\nThey come from countries such as Myanmar and Tonga\\n\\n@highlight\\n\\nNo Americans made the list this time or the previous ...  \n",
              "6  \\n\\nThe European Union announces it's imposing sanctions on 15 people\\n\\n@highlight\\n\\nDefense ministers from the United States and Russia discuss Ukraine\\n\\n@highlight\\n\\nU.S. imposes sanctions a...  \n",
              "7  \\n\\nCaptive boys and men were rescued from an Islamic religious school in Pakistan\\n\\n@highlight\\n\\nThey were reunited with their families this week\\n\\n@highlight\\n\\nThe facility was a school and ...  "
            ]
          },
          "metadata": {}
        }
      ]
    },
    {
      "cell_type": "code",
      "source": [
        ""
      ],
      "metadata": {
        "id": "POJkkiv9p3lO"
      },
      "execution_count": null,
      "outputs": []
    },
    {
      "cell_type": "code",
      "source": [
        ""
      ],
      "metadata": {
        "id": "uHgp9S_eqDcu"
      },
      "execution_count": null,
      "outputs": []
    },
    {
      "cell_type": "code",
      "source": [
        "df.iloc[2,1]"
      ],
      "metadata": {
        "colab": {
          "base_uri": "https://localhost:8080/",
          "height": 191
        },
        "id": "qQ_EVkz8OmvH",
        "outputId": "de6bf56d-0377-4f89-f68a-64baaff01d74"
      },
      "execution_count": 26,
      "outputs": [
        {
          "output_type": "execute_result",
          "data": {
            "application/vnd.google.colaboratory.intrinsic+json": {
              "type": "string"
            },
            "text/plain": [
              "'Kathmandu, Nepal (CNN) -- A ferocious leopard may have killed 15 people in Nepal in a 15-month span, its latest victim a 4-year-old boy that the creature dragged away into the jungle to eat.\\n\\nThe head of boy was found in the forest a kilometer from his home Saturday morning, said Kamal Prasad Kharel, the police chief of the Baitadi district, an area about 600 kilometers (373 miles) west of Kathmandu.\\n\\nThe grisly discovery, which came after teams of people searched for the child, marks the 15th victim in the past 15 months in that remote district in western Nepal.\\n\\nThe police chief suspects that a single man-eating leopard is responsible for the deaths. If not, there are at most two of the man-eating creatures around, he believes.\\n\\nMaheshwor Dhakal, an ecologist at the Department of National Parks and Wildlife Conservation in Kathmandu, agreed that it is unusual to find more than one or two man-eating animals in one area. Most leopards live on wild prey.\\n\\nMore human victims could also be expected if there were more than one or two man-eaters around, he said.\\n\\n\"Since human blood has more salt than animal blood, once wild animals get the taste of salty blood they do not like other animals like deer,\" Dhakal said.\\n\\nKharel said he feared the actual number of people killed by the leopard could be higher than 15, because others have lost their life to leopard attacks in Uttarkhand state in northern India, which borders Baitadi district.\\n\\n\"It could be the same leopard,\" he said.\\n\\nOf the 15 victims in Nepal so far, two-thirds are children below the age of 10. The others are older children and a 29-year-old woman who had gone to collect fodder for domestic animals in the nearby forest, a common practice in Nepal.\\n\\n\"No adult male has been killed,\" Kharel said.\\n\\nAll the victims are from villages bordering the dense forests in the district, he said.\\n\\nAfter killing its victim, the leopard takes the body away into the forest to eat.\\n\\n\"In the case of the children it just leaves behind the head, eating everything, but some parts of the adult body are left behind because it cannot finish it,\" Kharel added.\\n\\nThe district administration has announced a Rs. 25,000 (about $300) reward to anyone who captures or kills the leopard.\\n\\nThe local administration has sought to raise public awareness of the dangers of going alone into nearby forests and has mobilized the police, armed police force and local people who have licensed guns to hunt for the animal.\\n\\nControlling this particular leopard has been a challenge for the wildlife officials in Kathmandu.\\n\\n\"We are sending a veterinary doctor to the district to understand the situation,\" Dhakal, the ecologist, said. \"There is no alternative but to kill the leopard.\"\\n\\nThe chief district administrator has granted permission for this particular leopard to be killed. Normally, it is illegal to kill wild animals.\\n\\nLeopards are common in the low mountain areas, as compared to the high Himalayas, across the country.\\n\\nWhile cases of leopards killing domestic animals are common, and there are sometimes instances of leopards killing people in Nepal, this case is \"extreme,\" Dhakal said.\\n\\n@highlight\\n\\nA 4-year-old boy is the latest victim of a man-eating leopard, a local police chief says\\n\\n@highlight\\n\\nHe suspects one leopard is behind the deaths of 15 people in the past 15 months\\n\\n@highlight\\n\\nA reward has been offered to anyone who captures or kills the man-eating creature\\n\\n@highlight\\n\\nLeopards are common in low mountain areas of Nepal but usually eat wild prey like deer'"
            ]
          },
          "metadata": {},
          "execution_count": 26
        }
      ]
    },
    {
      "cell_type": "code",
      "source": [
        "pip install gensim"
      ],
      "metadata": {
        "colab": {
          "base_uri": "https://localhost:8080/"
        },
        "id": "QugOSskqeJKl",
        "outputId": "c2426b6a-6cc1-4050-f7d3-9262415fbbd2"
      },
      "execution_count": 27,
      "outputs": [
        {
          "output_type": "stream",
          "name": "stdout",
          "text": [
            "Requirement already satisfied: gensim in /usr/local/lib/python3.7/dist-packages (3.6.0)\n",
            "Requirement already satisfied: scipy>=0.18.1 in /usr/local/lib/python3.7/dist-packages (from gensim) (1.4.1)\n",
            "Requirement already satisfied: six>=1.5.0 in /usr/local/lib/python3.7/dist-packages (from gensim) (1.15.0)\n",
            "Requirement already satisfied: smart-open>=1.2.1 in /usr/local/lib/python3.7/dist-packages (from gensim) (5.2.1)\n",
            "Requirement already satisfied: numpy>=1.11.3 in /usr/local/lib/python3.7/dist-packages (from gensim) (1.21.5)\n"
          ]
        }
      ]
    },
    {
      "cell_type": "code",
      "source": [
        "pip install spacy"
      ],
      "metadata": {
        "colab": {
          "base_uri": "https://localhost:8080/"
        },
        "id": "AGzFHe-FeN7I",
        "outputId": "89f7d585-d7ce-479c-c568-6e8fa8b4f41e"
      },
      "execution_count": 28,
      "outputs": [
        {
          "output_type": "stream",
          "name": "stdout",
          "text": [
            "Requirement already satisfied: spacy in /usr/local/lib/python3.7/dist-packages (2.2.4)\n",
            "Requirement already satisfied: requests<3.0.0,>=2.13.0 in /usr/local/lib/python3.7/dist-packages (from spacy) (2.23.0)\n",
            "Requirement already satisfied: tqdm<5.0.0,>=4.38.0 in /usr/local/lib/python3.7/dist-packages (from spacy) (4.63.0)\n",
            "Requirement already satisfied: catalogue<1.1.0,>=0.0.7 in /usr/local/lib/python3.7/dist-packages (from spacy) (1.0.0)\n",
            "Requirement already satisfied: numpy>=1.15.0 in /usr/local/lib/python3.7/dist-packages (from spacy) (1.21.5)\n",
            "Requirement already satisfied: srsly<1.1.0,>=1.0.2 in /usr/local/lib/python3.7/dist-packages (from spacy) (1.0.5)\n",
            "Requirement already satisfied: preshed<3.1.0,>=3.0.2 in /usr/local/lib/python3.7/dist-packages (from spacy) (3.0.6)\n",
            "Requirement already satisfied: thinc==7.4.0 in /usr/local/lib/python3.7/dist-packages (from spacy) (7.4.0)\n",
            "Requirement already satisfied: cymem<2.1.0,>=2.0.2 in /usr/local/lib/python3.7/dist-packages (from spacy) (2.0.6)\n",
            "Requirement already satisfied: setuptools in /usr/local/lib/python3.7/dist-packages (from spacy) (57.4.0)\n",
            "Requirement already satisfied: wasabi<1.1.0,>=0.4.0 in /usr/local/lib/python3.7/dist-packages (from spacy) (0.9.0)\n",
            "Requirement already satisfied: blis<0.5.0,>=0.4.0 in /usr/local/lib/python3.7/dist-packages (from spacy) (0.4.1)\n",
            "Requirement already satisfied: plac<1.2.0,>=0.9.6 in /usr/local/lib/python3.7/dist-packages (from spacy) (1.1.3)\n",
            "Requirement already satisfied: murmurhash<1.1.0,>=0.28.0 in /usr/local/lib/python3.7/dist-packages (from spacy) (1.0.6)\n",
            "Requirement already satisfied: importlib-metadata>=0.20 in /usr/local/lib/python3.7/dist-packages (from catalogue<1.1.0,>=0.0.7->spacy) (4.11.2)\n",
            "Requirement already satisfied: zipp>=0.5 in /usr/local/lib/python3.7/dist-packages (from importlib-metadata>=0.20->catalogue<1.1.0,>=0.0.7->spacy) (3.7.0)\n",
            "Requirement already satisfied: typing-extensions>=3.6.4 in /usr/local/lib/python3.7/dist-packages (from importlib-metadata>=0.20->catalogue<1.1.0,>=0.0.7->spacy) (3.10.0.2)\n",
            "Requirement already satisfied: certifi>=2017.4.17 in /usr/local/lib/python3.7/dist-packages (from requests<3.0.0,>=2.13.0->spacy) (2021.10.8)\n",
            "Requirement already satisfied: chardet<4,>=3.0.2 in /usr/local/lib/python3.7/dist-packages (from requests<3.0.0,>=2.13.0->spacy) (3.0.4)\n",
            "Requirement already satisfied: urllib3!=1.25.0,!=1.25.1,<1.26,>=1.21.1 in /usr/local/lib/python3.7/dist-packages (from requests<3.0.0,>=2.13.0->spacy) (1.24.3)\n",
            "Requirement already satisfied: idna<3,>=2.5 in /usr/local/lib/python3.7/dist-packages (from requests<3.0.0,>=2.13.0->spacy) (2.10)\n"
          ]
        }
      ]
    },
    {
      "cell_type": "code",
      "source": [
        "pip install nltk"
      ],
      "metadata": {
        "colab": {
          "base_uri": "https://localhost:8080/"
        },
        "id": "nyzslMeRgBd3",
        "outputId": "a70ad090-ec9d-4706-f7b5-9c3ce69645ee"
      },
      "execution_count": 29,
      "outputs": [
        {
          "output_type": "stream",
          "name": "stdout",
          "text": [
            "Requirement already satisfied: nltk in /usr/local/lib/python3.7/dist-packages (3.2.5)\n",
            "Requirement already satisfied: six in /usr/local/lib/python3.7/dist-packages (from nltk) (1.15.0)\n"
          ]
        }
      ]
    },
    {
      "cell_type": "code",
      "source": [
        "import gensim\n",
        "df['clean_text'] = df['text'].apply(lambda x: gensim.utils.simple_preprocess(x))"
      ],
      "metadata": {
        "id": "7KFvlie8gF7t"
      },
      "execution_count": 30,
      "outputs": []
    },
    {
      "cell_type": "code",
      "source": [
        "display(df)"
      ],
      "metadata": {
        "colab": {
          "base_uri": "https://localhost:8080/",
          "height": 1000
        },
        "id": "C-qBWMf_gZJq",
        "outputId": "c4806249-987c-45e5-b9bb-ec39a48888e9"
      },
      "execution_count": 31,
      "outputs": [
        {
          "output_type": "display_data",
          "data": {
            "text/html": [
              "\n",
              "  <div id=\"df-9994bb14-6bb1-4395-b919-af44c2cd8c10\">\n",
              "    <div class=\"colab-df-container\">\n",
              "      <div>\n",
              "<style scoped>\n",
              "    .dataframe tbody tr th:only-of-type {\n",
              "        vertical-align: middle;\n",
              "    }\n",
              "\n",
              "    .dataframe tbody tr th {\n",
              "        vertical-align: top;\n",
              "    }\n",
              "\n",
              "    .dataframe thead th {\n",
              "        text-align: right;\n",
              "    }\n",
              "</style>\n",
              "<table border=\"1\" class=\"dataframe\">\n",
              "  <thead>\n",
              "    <tr style=\"text-align: right;\">\n",
              "      <th></th>\n",
              "      <th>file_name</th>\n",
              "      <th>text</th>\n",
              "      <th>summary</th>\n",
              "      <th>clean_text</th>\n",
              "    </tr>\n",
              "  </thead>\n",
              "  <tbody>\n",
              "    <tr>\n",
              "      <th>0</th>\n",
              "      <td>000e009f6b1d954d827c9a550f3f24a5474ee82b.story</td>\n",
              "      <td>(CNN) -- Kyle White now has two pieces of metal to wear -- one, a bracelet inscribed with the names of his six comrades killed in an ambush in Afghanistan, the other, a Medal of Honor given to him...</td>\n",
              "      <td>\\n\\nNEW: Kyle White: \"Without this team, there would be no Medal of Honor\"\\n\\n@highlight\\n\\nNEW: He vows to \"live up to the responsibility\" of having the top military award\\n\\n@highlight\\n\\nNEW: O...</td>\n",
              "      <td>[cnn, kyle, white, now, has, two, pieces, of, metal, to, wear, one, bracelet, inscribed, with, the, names, of, his, six, comrades, killed, in, an, ambush, in, afghanistan, the, other, medal, of, h...</td>\n",
              "    </tr>\n",
              "    <tr>\n",
              "      <th>1</th>\n",
              "      <td>00a9a975bde07882d77b6fc4382589791b92ef00.story</td>\n",
              "      <td>(CNN) -- Affectionately known in his home city of Madrid as \"the wise man of Hortaleza,\" Luis Aragones left the legacy of helping Spain's ascension to the top of world football.\\n\\nAragones, whose...</td>\n",
              "      <td>\\n\\nFormer Spain national coach Luis Aragones passes away in Madrid on Saturday\\n\\n@highlight\\n\\nThe 75-year-old had been suffering with health issues since his retirement last year\\n\\n@highlight\\...</td>\n",
              "      <td>[cnn, affectionately, known, in, his, home, city, of, madrid, as, the, wise, man, of, hortaleza, luis, aragones, left, the, legacy, of, helping, spain, ascension, to, the, top, of, world, football...</td>\n",
              "    </tr>\n",
              "    <tr>\n",
              "      <th>2</th>\n",
              "      <td>000cd1ee0098c4d510a03ddc97d11764448ebac2.story</td>\n",
              "      <td>Kathmandu, Nepal (CNN) -- A ferocious leopard may have killed 15 people in Nepal in a 15-month span, its latest victim a 4-year-old boy that the creature dragged away into the jungle to eat.\\n\\nTh...</td>\n",
              "      <td>\\n\\nA 4-year-old boy is the latest victim of a man-eating leopard, a local police chief says\\n\\n@highlight\\n\\nHe suspects one leopard is behind the deaths of 15 people in the past 15 months\\n\\n@hi...</td>\n",
              "      <td>[kathmandu, nepal, cnn, ferocious, leopard, may, have, killed, people, in, nepal, in, month, span, its, latest, victim, year, old, boy, that, the, creature, dragged, away, into, the, jungle, to, e...</td>\n",
              "    </tr>\n",
              "    <tr>\n",
              "      <th>3</th>\n",
              "      <td>00a7e6767322697aa9236e2135aecc9785c6b410.story</td>\n",
              "      <td>(CNN) -- When Lukas Hartmann, 29, signed up for 23andMe's at-home genetic testing service, there were no surprises in his results.\\n\\nThe Berliner learned he would probably die from \"a mix of hear...</td>\n",
              "      <td>\\n\\nFDA has ordered 23andMe to stop sales of its $99 home genetic testing kits\\n\\n@highlight\\n\\n23andMe supporters took to social media to protest the FDA's decision\\n\\n@highlight\\n\\nGenetic testi...</td>\n",
              "      <td>[cnn, when, lukas, hartmann, signed, up, for, andme, at, home, genetic, testing, service, there, were, no, surprises, in, his, results, the, berliner, learned, he, would, probably, die, from, mix,...</td>\n",
              "    </tr>\n",
              "    <tr>\n",
              "      <th>4</th>\n",
              "      <td>000ca3fc9d877f8d4bb2ebd1d6858c69be571fd8.story</td>\n",
              "      <td>HAMILTON, Bermuda (CNN) -- Four Chinese nationals of Uyghur ethnicity who had been held at the U.S. military's Guantanamo Bay, Cuba, detention facility have been resettled in Bermuda, officials sa...</td>\n",
              "      <td>\\n\\nNEW: Bermudan premier: \"Above all, this was a humanitarian act\"\\n\\n@highlight\\n\\nUyghurs are native Chinese Muslims; the detainees were apprehended in Pakistan\\n\\n@highlight\\n\\nChina urges U.S...</td>\n",
              "      <td>[hamilton, bermuda, cnn, four, chinese, nationals, of, uyghur, ethnicity, who, had, been, held, at, the, military, guantanamo, bay, cuba, detention, facility, have, been, resettled, in, bermuda, o...</td>\n",
              "    </tr>\n",
              "    <tr>\n",
              "      <th>5</th>\n",
              "      <td>000c835555db62e319854d9f8912061cdca1893e.story</td>\n",
              "      <td>(CNN)For the second time during his papacy, Pope Francis has announced a new group of bishops and archbishops set to become cardinals -- and they come from all over the world.\\n\\nPope Francis said...</td>\n",
              "      <td>\\n\\nThe 15 new cardinals will be installed on February 14\\n\\n@highlight\\n\\nThey come from countries such as Myanmar and Tonga\\n\\n@highlight\\n\\nNo Americans made the list this time or the previous ...</td>\n",
              "      <td>[cnn, for, the, second, time, during, his, papacy, pope, francis, has, announced, new, group, of, bishops, and, archbishops, set, to, become, cardinals, and, they, come, from, all, over, the, worl...</td>\n",
              "    </tr>\n",
              "    <tr>\n",
              "      <th>6</th>\n",
              "      <td>00a6c0823ba92e5a055d90133e8b66fa9028c2d7.story</td>\n",
              "      <td>The mayor of the eastern Ukrainian city of Kharkiv underwent emergency surgery after being shot in the back, city officials and police said Monday, amid continuing unrest in the region.\\n\\nThe att...</td>\n",
              "      <td>\\n\\nThe European Union announces it's imposing sanctions on 15 people\\n\\n@highlight\\n\\nDefense ministers from the United States and Russia discuss Ukraine\\n\\n@highlight\\n\\nU.S. imposes sanctions a...</td>\n",
              "      <td>[the, mayor, of, the, eastern, ukrainian, city, of, kharkiv, underwent, emergency, surgery, after, being, shot, in, the, back, city, officials, and, police, said, monday, amid, continuing, unrest,...</td>\n",
              "    </tr>\n",
              "    <tr>\n",
              "      <th>7</th>\n",
              "      <td>00a2aef1e18d125960da51e167a3d22ed8416c09.story</td>\n",
              "      <td>(CNN) -- The 54 men and 14 boys rescued after being found chained this week at an Islamic religious school in Pakistan have been reunited with their families or placed in shelters, authorities sai...</td>\n",
              "      <td>\\n\\nCaptive boys and men were rescued from an Islamic religious school in Pakistan\\n\\n@highlight\\n\\nThey were reunited with their families this week\\n\\n@highlight\\n\\nThe facility was a school and ...</td>\n",
              "      <td>[cnn, the, men, and, boys, rescued, after, being, found, chained, this, week, at, an, islamic, religious, school, in, pakistan, have, been, reunited, with, their, families, or, placed, in, shelter...</td>\n",
              "    </tr>\n",
              "  </tbody>\n",
              "</table>\n",
              "</div>\n",
              "      <button class=\"colab-df-convert\" onclick=\"convertToInteractive('df-9994bb14-6bb1-4395-b919-af44c2cd8c10')\"\n",
              "              title=\"Convert this dataframe to an interactive table.\"\n",
              "              style=\"display:none;\">\n",
              "        \n",
              "  <svg xmlns=\"http://www.w3.org/2000/svg\" height=\"24px\"viewBox=\"0 0 24 24\"\n",
              "       width=\"24px\">\n",
              "    <path d=\"M0 0h24v24H0V0z\" fill=\"none\"/>\n",
              "    <path d=\"M18.56 5.44l.94 2.06.94-2.06 2.06-.94-2.06-.94-.94-2.06-.94 2.06-2.06.94zm-11 1L8.5 8.5l.94-2.06 2.06-.94-2.06-.94L8.5 2.5l-.94 2.06-2.06.94zm10 10l.94 2.06.94-2.06 2.06-.94-2.06-.94-.94-2.06-.94 2.06-2.06.94z\"/><path d=\"M17.41 7.96l-1.37-1.37c-.4-.4-.92-.59-1.43-.59-.52 0-1.04.2-1.43.59L10.3 9.45l-7.72 7.72c-.78.78-.78 2.05 0 2.83L4 21.41c.39.39.9.59 1.41.59.51 0 1.02-.2 1.41-.59l7.78-7.78 2.81-2.81c.8-.78.8-2.07 0-2.86zM5.41 20L4 18.59l7.72-7.72 1.47 1.35L5.41 20z\"/>\n",
              "  </svg>\n",
              "      </button>\n",
              "      \n",
              "  <style>\n",
              "    .colab-df-container {\n",
              "      display:flex;\n",
              "      flex-wrap:wrap;\n",
              "      gap: 12px;\n",
              "    }\n",
              "\n",
              "    .colab-df-convert {\n",
              "      background-color: #E8F0FE;\n",
              "      border: none;\n",
              "      border-radius: 50%;\n",
              "      cursor: pointer;\n",
              "      display: none;\n",
              "      fill: #1967D2;\n",
              "      height: 32px;\n",
              "      padding: 0 0 0 0;\n",
              "      width: 32px;\n",
              "    }\n",
              "\n",
              "    .colab-df-convert:hover {\n",
              "      background-color: #E2EBFA;\n",
              "      box-shadow: 0px 1px 2px rgba(60, 64, 67, 0.3), 0px 1px 3px 1px rgba(60, 64, 67, 0.15);\n",
              "      fill: #174EA6;\n",
              "    }\n",
              "\n",
              "    [theme=dark] .colab-df-convert {\n",
              "      background-color: #3B4455;\n",
              "      fill: #D2E3FC;\n",
              "    }\n",
              "\n",
              "    [theme=dark] .colab-df-convert:hover {\n",
              "      background-color: #434B5C;\n",
              "      box-shadow: 0px 1px 3px 1px rgba(0, 0, 0, 0.15);\n",
              "      filter: drop-shadow(0px 1px 2px rgba(0, 0, 0, 0.3));\n",
              "      fill: #FFFFFF;\n",
              "    }\n",
              "  </style>\n",
              "\n",
              "      <script>\n",
              "        const buttonEl =\n",
              "          document.querySelector('#df-9994bb14-6bb1-4395-b919-af44c2cd8c10 button.colab-df-convert');\n",
              "        buttonEl.style.display =\n",
              "          google.colab.kernel.accessAllowed ? 'block' : 'none';\n",
              "\n",
              "        async function convertToInteractive(key) {\n",
              "          const element = document.querySelector('#df-9994bb14-6bb1-4395-b919-af44c2cd8c10');\n",
              "          const dataTable =\n",
              "            await google.colab.kernel.invokeFunction('convertToInteractive',\n",
              "                                                     [key], {});\n",
              "          if (!dataTable) return;\n",
              "\n",
              "          const docLinkHtml = 'Like what you see? Visit the ' +\n",
              "            '<a target=\"_blank\" href=https://colab.research.google.com/notebooks/data_table.ipynb>data table notebook</a>'\n",
              "            + ' to learn more about interactive tables.';\n",
              "          element.innerHTML = '';\n",
              "          dataTable['output_type'] = 'display_data';\n",
              "          await google.colab.output.renderOutput(dataTable, element);\n",
              "          const docLink = document.createElement('div');\n",
              "          docLink.innerHTML = docLinkHtml;\n",
              "          element.appendChild(docLink);\n",
              "        }\n",
              "      </script>\n",
              "    </div>\n",
              "  </div>\n",
              "  "
            ],
            "text/plain": [
              "                                        file_name  \\\n",
              "0  000e009f6b1d954d827c9a550f3f24a5474ee82b.story   \n",
              "1  00a9a975bde07882d77b6fc4382589791b92ef00.story   \n",
              "2  000cd1ee0098c4d510a03ddc97d11764448ebac2.story   \n",
              "3  00a7e6767322697aa9236e2135aecc9785c6b410.story   \n",
              "4  000ca3fc9d877f8d4bb2ebd1d6858c69be571fd8.story   \n",
              "5  000c835555db62e319854d9f8912061cdca1893e.story   \n",
              "6  00a6c0823ba92e5a055d90133e8b66fa9028c2d7.story   \n",
              "7  00a2aef1e18d125960da51e167a3d22ed8416c09.story   \n",
              "\n",
              "                                                                                                                                                                                                      text  \\\n",
              "0  (CNN) -- Kyle White now has two pieces of metal to wear -- one, a bracelet inscribed with the names of his six comrades killed in an ambush in Afghanistan, the other, a Medal of Honor given to him...   \n",
              "1  (CNN) -- Affectionately known in his home city of Madrid as \"the wise man of Hortaleza,\" Luis Aragones left the legacy of helping Spain's ascension to the top of world football.\\n\\nAragones, whose...   \n",
              "2  Kathmandu, Nepal (CNN) -- A ferocious leopard may have killed 15 people in Nepal in a 15-month span, its latest victim a 4-year-old boy that the creature dragged away into the jungle to eat.\\n\\nTh...   \n",
              "3  (CNN) -- When Lukas Hartmann, 29, signed up for 23andMe's at-home genetic testing service, there were no surprises in his results.\\n\\nThe Berliner learned he would probably die from \"a mix of hear...   \n",
              "4  HAMILTON, Bermuda (CNN) -- Four Chinese nationals of Uyghur ethnicity who had been held at the U.S. military's Guantanamo Bay, Cuba, detention facility have been resettled in Bermuda, officials sa...   \n",
              "5  (CNN)For the second time during his papacy, Pope Francis has announced a new group of bishops and archbishops set to become cardinals -- and they come from all over the world.\\n\\nPope Francis said...   \n",
              "6  The mayor of the eastern Ukrainian city of Kharkiv underwent emergency surgery after being shot in the back, city officials and police said Monday, amid continuing unrest in the region.\\n\\nThe att...   \n",
              "7  (CNN) -- The 54 men and 14 boys rescued after being found chained this week at an Islamic religious school in Pakistan have been reunited with their families or placed in shelters, authorities sai...   \n",
              "\n",
              "                                                                                                                                                                                                   summary  \\\n",
              "0  \\n\\nNEW: Kyle White: \"Without this team, there would be no Medal of Honor\"\\n\\n@highlight\\n\\nNEW: He vows to \"live up to the responsibility\" of having the top military award\\n\\n@highlight\\n\\nNEW: O...   \n",
              "1  \\n\\nFormer Spain national coach Luis Aragones passes away in Madrid on Saturday\\n\\n@highlight\\n\\nThe 75-year-old had been suffering with health issues since his retirement last year\\n\\n@highlight\\...   \n",
              "2  \\n\\nA 4-year-old boy is the latest victim of a man-eating leopard, a local police chief says\\n\\n@highlight\\n\\nHe suspects one leopard is behind the deaths of 15 people in the past 15 months\\n\\n@hi...   \n",
              "3  \\n\\nFDA has ordered 23andMe to stop sales of its $99 home genetic testing kits\\n\\n@highlight\\n\\n23andMe supporters took to social media to protest the FDA's decision\\n\\n@highlight\\n\\nGenetic testi...   \n",
              "4  \\n\\nNEW: Bermudan premier: \"Above all, this was a humanitarian act\"\\n\\n@highlight\\n\\nUyghurs are native Chinese Muslims; the detainees were apprehended in Pakistan\\n\\n@highlight\\n\\nChina urges U.S...   \n",
              "5  \\n\\nThe 15 new cardinals will be installed on February 14\\n\\n@highlight\\n\\nThey come from countries such as Myanmar and Tonga\\n\\n@highlight\\n\\nNo Americans made the list this time or the previous ...   \n",
              "6  \\n\\nThe European Union announces it's imposing sanctions on 15 people\\n\\n@highlight\\n\\nDefense ministers from the United States and Russia discuss Ukraine\\n\\n@highlight\\n\\nU.S. imposes sanctions a...   \n",
              "7  \\n\\nCaptive boys and men were rescued from an Islamic religious school in Pakistan\\n\\n@highlight\\n\\nThey were reunited with their families this week\\n\\n@highlight\\n\\nThe facility was a school and ...   \n",
              "\n",
              "                                                                                                                                                                                                clean_text  \n",
              "0  [cnn, kyle, white, now, has, two, pieces, of, metal, to, wear, one, bracelet, inscribed, with, the, names, of, his, six, comrades, killed, in, an, ambush, in, afghanistan, the, other, medal, of, h...  \n",
              "1  [cnn, affectionately, known, in, his, home, city, of, madrid, as, the, wise, man, of, hortaleza, luis, aragones, left, the, legacy, of, helping, spain, ascension, to, the, top, of, world, football...  \n",
              "2  [kathmandu, nepal, cnn, ferocious, leopard, may, have, killed, people, in, nepal, in, month, span, its, latest, victim, year, old, boy, that, the, creature, dragged, away, into, the, jungle, to, e...  \n",
              "3  [cnn, when, lukas, hartmann, signed, up, for, andme, at, home, genetic, testing, service, there, were, no, surprises, in, his, results, the, berliner, learned, he, would, probably, die, from, mix,...  \n",
              "4  [hamilton, bermuda, cnn, four, chinese, nationals, of, uyghur, ethnicity, who, had, been, held, at, the, military, guantanamo, bay, cuba, detention, facility, have, been, resettled, in, bermuda, o...  \n",
              "5  [cnn, for, the, second, time, during, his, papacy, pope, francis, has, announced, new, group, of, bishops, and, archbishops, set, to, become, cardinals, and, they, come, from, all, over, the, worl...  \n",
              "6  [the, mayor, of, the, eastern, ukrainian, city, of, kharkiv, underwent, emergency, surgery, after, being, shot, in, the, back, city, officials, and, police, said, monday, amid, continuing, unrest,...  \n",
              "7  [cnn, the, men, and, boys, rescued, after, being, found, chained, this, week, at, an, islamic, religious, school, in, pakistan, have, been, reunited, with, their, families, or, placed, in, shelter...  "
            ]
          },
          "metadata": {}
        }
      ]
    },
    {
      "cell_type": "code",
      "source": [
        "df['clean_summary'] = df['summary'].apply(lambda x: gensim.utils.simple_preprocess(x))"
      ],
      "metadata": {
        "id": "QlYJVZ15giy1"
      },
      "execution_count": 32,
      "outputs": []
    },
    {
      "cell_type": "code",
      "source": [
        "display(df)"
      ],
      "metadata": {
        "colab": {
          "base_uri": "https://localhost:8080/",
          "height": 1000
        },
        "id": "Tta-Z4HfgrMB",
        "outputId": "ae770341-984c-441b-f801-89403c4b3689"
      },
      "execution_count": 33,
      "outputs": [
        {
          "output_type": "display_data",
          "data": {
            "text/html": [
              "\n",
              "  <div id=\"df-f86dddd5-f824-487b-90e6-e733708180a0\">\n",
              "    <div class=\"colab-df-container\">\n",
              "      <div>\n",
              "<style scoped>\n",
              "    .dataframe tbody tr th:only-of-type {\n",
              "        vertical-align: middle;\n",
              "    }\n",
              "\n",
              "    .dataframe tbody tr th {\n",
              "        vertical-align: top;\n",
              "    }\n",
              "\n",
              "    .dataframe thead th {\n",
              "        text-align: right;\n",
              "    }\n",
              "</style>\n",
              "<table border=\"1\" class=\"dataframe\">\n",
              "  <thead>\n",
              "    <tr style=\"text-align: right;\">\n",
              "      <th></th>\n",
              "      <th>file_name</th>\n",
              "      <th>text</th>\n",
              "      <th>summary</th>\n",
              "      <th>clean_text</th>\n",
              "      <th>clean_summary</th>\n",
              "    </tr>\n",
              "  </thead>\n",
              "  <tbody>\n",
              "    <tr>\n",
              "      <th>0</th>\n",
              "      <td>000e009f6b1d954d827c9a550f3f24a5474ee82b.story</td>\n",
              "      <td>(CNN) -- Kyle White now has two pieces of metal to wear -- one, a bracelet inscribed with the names of his six comrades killed in an ambush in Afghanistan, the other, a Medal of Honor given to him...</td>\n",
              "      <td>\\n\\nNEW: Kyle White: \"Without this team, there would be no Medal of Honor\"\\n\\n@highlight\\n\\nNEW: He vows to \"live up to the responsibility\" of having the top military award\\n\\n@highlight\\n\\nNEW: O...</td>\n",
              "      <td>[cnn, kyle, white, now, has, two, pieces, of, metal, to, wear, one, bracelet, inscribed, with, the, names, of, his, six, comrades, killed, in, an, ambush, in, afghanistan, the, other, medal, of, h...</td>\n",
              "      <td>[new, kyle, white, without, this, team, there, would, be, no, medal, of, honor, highlight, new, he, vows, to, live, up, to, the, responsibility, of, having, the, top, military, award, highlight, n...</td>\n",
              "    </tr>\n",
              "    <tr>\n",
              "      <th>1</th>\n",
              "      <td>00a9a975bde07882d77b6fc4382589791b92ef00.story</td>\n",
              "      <td>(CNN) -- Affectionately known in his home city of Madrid as \"the wise man of Hortaleza,\" Luis Aragones left the legacy of helping Spain's ascension to the top of world football.\\n\\nAragones, whose...</td>\n",
              "      <td>\\n\\nFormer Spain national coach Luis Aragones passes away in Madrid on Saturday\\n\\n@highlight\\n\\nThe 75-year-old had been suffering with health issues since his retirement last year\\n\\n@highlight\\...</td>\n",
              "      <td>[cnn, affectionately, known, in, his, home, city, of, madrid, as, the, wise, man, of, hortaleza, luis, aragones, left, the, legacy, of, helping, spain, ascension, to, the, top, of, world, football...</td>\n",
              "      <td>[former, spain, national, coach, luis, aragones, passes, away, in, madrid, on, saturday, highlight, the, year, old, had, been, suffering, with, health, issues, since, his, retirement, last, year, ...</td>\n",
              "    </tr>\n",
              "    <tr>\n",
              "      <th>2</th>\n",
              "      <td>000cd1ee0098c4d510a03ddc97d11764448ebac2.story</td>\n",
              "      <td>Kathmandu, Nepal (CNN) -- A ferocious leopard may have killed 15 people in Nepal in a 15-month span, its latest victim a 4-year-old boy that the creature dragged away into the jungle to eat.\\n\\nTh...</td>\n",
              "      <td>\\n\\nA 4-year-old boy is the latest victim of a man-eating leopard, a local police chief says\\n\\n@highlight\\n\\nHe suspects one leopard is behind the deaths of 15 people in the past 15 months\\n\\n@hi...</td>\n",
              "      <td>[kathmandu, nepal, cnn, ferocious, leopard, may, have, killed, people, in, nepal, in, month, span, its, latest, victim, year, old, boy, that, the, creature, dragged, away, into, the, jungle, to, e...</td>\n",
              "      <td>[year, old, boy, is, the, latest, victim, of, man, eating, leopard, local, police, chief, says, highlight, he, suspects, one, leopard, is, behind, the, deaths, of, people, in, the, past, months, h...</td>\n",
              "    </tr>\n",
              "    <tr>\n",
              "      <th>3</th>\n",
              "      <td>00a7e6767322697aa9236e2135aecc9785c6b410.story</td>\n",
              "      <td>(CNN) -- When Lukas Hartmann, 29, signed up for 23andMe's at-home genetic testing service, there were no surprises in his results.\\n\\nThe Berliner learned he would probably die from \"a mix of hear...</td>\n",
              "      <td>\\n\\nFDA has ordered 23andMe to stop sales of its $99 home genetic testing kits\\n\\n@highlight\\n\\n23andMe supporters took to social media to protest the FDA's decision\\n\\n@highlight\\n\\nGenetic testi...</td>\n",
              "      <td>[cnn, when, lukas, hartmann, signed, up, for, andme, at, home, genetic, testing, service, there, were, no, surprises, in, his, results, the, berliner, learned, he, would, probably, die, from, mix,...</td>\n",
              "      <td>[fda, has, ordered, andme, to, stop, sales, of, its, home, genetic, testing, kits, highlight, andme, supporters, took, to, social, media, to, protest, the, fda, decision, highlight, genetic, testi...</td>\n",
              "    </tr>\n",
              "    <tr>\n",
              "      <th>4</th>\n",
              "      <td>000ca3fc9d877f8d4bb2ebd1d6858c69be571fd8.story</td>\n",
              "      <td>HAMILTON, Bermuda (CNN) -- Four Chinese nationals of Uyghur ethnicity who had been held at the U.S. military's Guantanamo Bay, Cuba, detention facility have been resettled in Bermuda, officials sa...</td>\n",
              "      <td>\\n\\nNEW: Bermudan premier: \"Above all, this was a humanitarian act\"\\n\\n@highlight\\n\\nUyghurs are native Chinese Muslims; the detainees were apprehended in Pakistan\\n\\n@highlight\\n\\nChina urges U.S...</td>\n",
              "      <td>[hamilton, bermuda, cnn, four, chinese, nationals, of, uyghur, ethnicity, who, had, been, held, at, the, military, guantanamo, bay, cuba, detention, facility, have, been, resettled, in, bermuda, o...</td>\n",
              "      <td>[new, bermudan, premier, above, all, this, was, humanitarian, act, highlight, uyghurs, are, native, chinese, muslims, the, detainees, were, apprehended, in, pakistan, highlight, china, urges, to, ...</td>\n",
              "    </tr>\n",
              "    <tr>\n",
              "      <th>5</th>\n",
              "      <td>000c835555db62e319854d9f8912061cdca1893e.story</td>\n",
              "      <td>(CNN)For the second time during his papacy, Pope Francis has announced a new group of bishops and archbishops set to become cardinals -- and they come from all over the world.\\n\\nPope Francis said...</td>\n",
              "      <td>\\n\\nThe 15 new cardinals will be installed on February 14\\n\\n@highlight\\n\\nThey come from countries such as Myanmar and Tonga\\n\\n@highlight\\n\\nNo Americans made the list this time or the previous ...</td>\n",
              "      <td>[cnn, for, the, second, time, during, his, papacy, pope, francis, has, announced, new, group, of, bishops, and, archbishops, set, to, become, cardinals, and, they, come, from, all, over, the, worl...</td>\n",
              "      <td>[the, new, cardinals, will, be, installed, on, february, highlight, they, come, from, countries, such, as, myanmar, and, tonga, highlight, no, americans, made, the, list, this, time, or, the, prev...</td>\n",
              "    </tr>\n",
              "    <tr>\n",
              "      <th>6</th>\n",
              "      <td>00a6c0823ba92e5a055d90133e8b66fa9028c2d7.story</td>\n",
              "      <td>The mayor of the eastern Ukrainian city of Kharkiv underwent emergency surgery after being shot in the back, city officials and police said Monday, amid continuing unrest in the region.\\n\\nThe att...</td>\n",
              "      <td>\\n\\nThe European Union announces it's imposing sanctions on 15 people\\n\\n@highlight\\n\\nDefense ministers from the United States and Russia discuss Ukraine\\n\\n@highlight\\n\\nU.S. imposes sanctions a...</td>\n",
              "      <td>[the, mayor, of, the, eastern, ukrainian, city, of, kharkiv, underwent, emergency, surgery, after, being, shot, in, the, back, city, officials, and, police, said, monday, amid, continuing, unrest,...</td>\n",
              "      <td>[the, european, union, announces, it, imposing, sanctions, on, people, highlight, defense, ministers, from, the, united, states, and, russia, discuss, ukraine, highlight, imposes, sanctions, again...</td>\n",
              "    </tr>\n",
              "    <tr>\n",
              "      <th>7</th>\n",
              "      <td>00a2aef1e18d125960da51e167a3d22ed8416c09.story</td>\n",
              "      <td>(CNN) -- The 54 men and 14 boys rescued after being found chained this week at an Islamic religious school in Pakistan have been reunited with their families or placed in shelters, authorities sai...</td>\n",
              "      <td>\\n\\nCaptive boys and men were rescued from an Islamic religious school in Pakistan\\n\\n@highlight\\n\\nThey were reunited with their families this week\\n\\n@highlight\\n\\nThe facility was a school and ...</td>\n",
              "      <td>[cnn, the, men, and, boys, rescued, after, being, found, chained, this, week, at, an, islamic, religious, school, in, pakistan, have, been, reunited, with, their, families, or, placed, in, shelter...</td>\n",
              "      <td>[captive, boys, and, men, were, rescued, from, an, islamic, religious, school, in, pakistan, highlight, they, were, reunited, with, their, families, this, week, highlight, the, facility, was, scho...</td>\n",
              "    </tr>\n",
              "  </tbody>\n",
              "</table>\n",
              "</div>\n",
              "      <button class=\"colab-df-convert\" onclick=\"convertToInteractive('df-f86dddd5-f824-487b-90e6-e733708180a0')\"\n",
              "              title=\"Convert this dataframe to an interactive table.\"\n",
              "              style=\"display:none;\">\n",
              "        \n",
              "  <svg xmlns=\"http://www.w3.org/2000/svg\" height=\"24px\"viewBox=\"0 0 24 24\"\n",
              "       width=\"24px\">\n",
              "    <path d=\"M0 0h24v24H0V0z\" fill=\"none\"/>\n",
              "    <path d=\"M18.56 5.44l.94 2.06.94-2.06 2.06-.94-2.06-.94-.94-2.06-.94 2.06-2.06.94zm-11 1L8.5 8.5l.94-2.06 2.06-.94-2.06-.94L8.5 2.5l-.94 2.06-2.06.94zm10 10l.94 2.06.94-2.06 2.06-.94-2.06-.94-.94-2.06-.94 2.06-2.06.94z\"/><path d=\"M17.41 7.96l-1.37-1.37c-.4-.4-.92-.59-1.43-.59-.52 0-1.04.2-1.43.59L10.3 9.45l-7.72 7.72c-.78.78-.78 2.05 0 2.83L4 21.41c.39.39.9.59 1.41.59.51 0 1.02-.2 1.41-.59l7.78-7.78 2.81-2.81c.8-.78.8-2.07 0-2.86zM5.41 20L4 18.59l7.72-7.72 1.47 1.35L5.41 20z\"/>\n",
              "  </svg>\n",
              "      </button>\n",
              "      \n",
              "  <style>\n",
              "    .colab-df-container {\n",
              "      display:flex;\n",
              "      flex-wrap:wrap;\n",
              "      gap: 12px;\n",
              "    }\n",
              "\n",
              "    .colab-df-convert {\n",
              "      background-color: #E8F0FE;\n",
              "      border: none;\n",
              "      border-radius: 50%;\n",
              "      cursor: pointer;\n",
              "      display: none;\n",
              "      fill: #1967D2;\n",
              "      height: 32px;\n",
              "      padding: 0 0 0 0;\n",
              "      width: 32px;\n",
              "    }\n",
              "\n",
              "    .colab-df-convert:hover {\n",
              "      background-color: #E2EBFA;\n",
              "      box-shadow: 0px 1px 2px rgba(60, 64, 67, 0.3), 0px 1px 3px 1px rgba(60, 64, 67, 0.15);\n",
              "      fill: #174EA6;\n",
              "    }\n",
              "\n",
              "    [theme=dark] .colab-df-convert {\n",
              "      background-color: #3B4455;\n",
              "      fill: #D2E3FC;\n",
              "    }\n",
              "\n",
              "    [theme=dark] .colab-df-convert:hover {\n",
              "      background-color: #434B5C;\n",
              "      box-shadow: 0px 1px 3px 1px rgba(0, 0, 0, 0.15);\n",
              "      filter: drop-shadow(0px 1px 2px rgba(0, 0, 0, 0.3));\n",
              "      fill: #FFFFFF;\n",
              "    }\n",
              "  </style>\n",
              "\n",
              "      <script>\n",
              "        const buttonEl =\n",
              "          document.querySelector('#df-f86dddd5-f824-487b-90e6-e733708180a0 button.colab-df-convert');\n",
              "        buttonEl.style.display =\n",
              "          google.colab.kernel.accessAllowed ? 'block' : 'none';\n",
              "\n",
              "        async function convertToInteractive(key) {\n",
              "          const element = document.querySelector('#df-f86dddd5-f824-487b-90e6-e733708180a0');\n",
              "          const dataTable =\n",
              "            await google.colab.kernel.invokeFunction('convertToInteractive',\n",
              "                                                     [key], {});\n",
              "          if (!dataTable) return;\n",
              "\n",
              "          const docLinkHtml = 'Like what you see? Visit the ' +\n",
              "            '<a target=\"_blank\" href=https://colab.research.google.com/notebooks/data_table.ipynb>data table notebook</a>'\n",
              "            + ' to learn more about interactive tables.';\n",
              "          element.innerHTML = '';\n",
              "          dataTable['output_type'] = 'display_data';\n",
              "          await google.colab.output.renderOutput(dataTable, element);\n",
              "          const docLink = document.createElement('div');\n",
              "          docLink.innerHTML = docLinkHtml;\n",
              "          element.appendChild(docLink);\n",
              "        }\n",
              "      </script>\n",
              "    </div>\n",
              "  </div>\n",
              "  "
            ],
            "text/plain": [
              "                                        file_name  \\\n",
              "0  000e009f6b1d954d827c9a550f3f24a5474ee82b.story   \n",
              "1  00a9a975bde07882d77b6fc4382589791b92ef00.story   \n",
              "2  000cd1ee0098c4d510a03ddc97d11764448ebac2.story   \n",
              "3  00a7e6767322697aa9236e2135aecc9785c6b410.story   \n",
              "4  000ca3fc9d877f8d4bb2ebd1d6858c69be571fd8.story   \n",
              "5  000c835555db62e319854d9f8912061cdca1893e.story   \n",
              "6  00a6c0823ba92e5a055d90133e8b66fa9028c2d7.story   \n",
              "7  00a2aef1e18d125960da51e167a3d22ed8416c09.story   \n",
              "\n",
              "                                                                                                                                                                                                      text  \\\n",
              "0  (CNN) -- Kyle White now has two pieces of metal to wear -- one, a bracelet inscribed with the names of his six comrades killed in an ambush in Afghanistan, the other, a Medal of Honor given to him...   \n",
              "1  (CNN) -- Affectionately known in his home city of Madrid as \"the wise man of Hortaleza,\" Luis Aragones left the legacy of helping Spain's ascension to the top of world football.\\n\\nAragones, whose...   \n",
              "2  Kathmandu, Nepal (CNN) -- A ferocious leopard may have killed 15 people in Nepal in a 15-month span, its latest victim a 4-year-old boy that the creature dragged away into the jungle to eat.\\n\\nTh...   \n",
              "3  (CNN) -- When Lukas Hartmann, 29, signed up for 23andMe's at-home genetic testing service, there were no surprises in his results.\\n\\nThe Berliner learned he would probably die from \"a mix of hear...   \n",
              "4  HAMILTON, Bermuda (CNN) -- Four Chinese nationals of Uyghur ethnicity who had been held at the U.S. military's Guantanamo Bay, Cuba, detention facility have been resettled in Bermuda, officials sa...   \n",
              "5  (CNN)For the second time during his papacy, Pope Francis has announced a new group of bishops and archbishops set to become cardinals -- and they come from all over the world.\\n\\nPope Francis said...   \n",
              "6  The mayor of the eastern Ukrainian city of Kharkiv underwent emergency surgery after being shot in the back, city officials and police said Monday, amid continuing unrest in the region.\\n\\nThe att...   \n",
              "7  (CNN) -- The 54 men and 14 boys rescued after being found chained this week at an Islamic religious school in Pakistan have been reunited with their families or placed in shelters, authorities sai...   \n",
              "\n",
              "                                                                                                                                                                                                   summary  \\\n",
              "0  \\n\\nNEW: Kyle White: \"Without this team, there would be no Medal of Honor\"\\n\\n@highlight\\n\\nNEW: He vows to \"live up to the responsibility\" of having the top military award\\n\\n@highlight\\n\\nNEW: O...   \n",
              "1  \\n\\nFormer Spain national coach Luis Aragones passes away in Madrid on Saturday\\n\\n@highlight\\n\\nThe 75-year-old had been suffering with health issues since his retirement last year\\n\\n@highlight\\...   \n",
              "2  \\n\\nA 4-year-old boy is the latest victim of a man-eating leopard, a local police chief says\\n\\n@highlight\\n\\nHe suspects one leopard is behind the deaths of 15 people in the past 15 months\\n\\n@hi...   \n",
              "3  \\n\\nFDA has ordered 23andMe to stop sales of its $99 home genetic testing kits\\n\\n@highlight\\n\\n23andMe supporters took to social media to protest the FDA's decision\\n\\n@highlight\\n\\nGenetic testi...   \n",
              "4  \\n\\nNEW: Bermudan premier: \"Above all, this was a humanitarian act\"\\n\\n@highlight\\n\\nUyghurs are native Chinese Muslims; the detainees were apprehended in Pakistan\\n\\n@highlight\\n\\nChina urges U.S...   \n",
              "5  \\n\\nThe 15 new cardinals will be installed on February 14\\n\\n@highlight\\n\\nThey come from countries such as Myanmar and Tonga\\n\\n@highlight\\n\\nNo Americans made the list this time or the previous ...   \n",
              "6  \\n\\nThe European Union announces it's imposing sanctions on 15 people\\n\\n@highlight\\n\\nDefense ministers from the United States and Russia discuss Ukraine\\n\\n@highlight\\n\\nU.S. imposes sanctions a...   \n",
              "7  \\n\\nCaptive boys and men were rescued from an Islamic religious school in Pakistan\\n\\n@highlight\\n\\nThey were reunited with their families this week\\n\\n@highlight\\n\\nThe facility was a school and ...   \n",
              "\n",
              "                                                                                                                                                                                                clean_text  \\\n",
              "0  [cnn, kyle, white, now, has, two, pieces, of, metal, to, wear, one, bracelet, inscribed, with, the, names, of, his, six, comrades, killed, in, an, ambush, in, afghanistan, the, other, medal, of, h...   \n",
              "1  [cnn, affectionately, known, in, his, home, city, of, madrid, as, the, wise, man, of, hortaleza, luis, aragones, left, the, legacy, of, helping, spain, ascension, to, the, top, of, world, football...   \n",
              "2  [kathmandu, nepal, cnn, ferocious, leopard, may, have, killed, people, in, nepal, in, month, span, its, latest, victim, year, old, boy, that, the, creature, dragged, away, into, the, jungle, to, e...   \n",
              "3  [cnn, when, lukas, hartmann, signed, up, for, andme, at, home, genetic, testing, service, there, were, no, surprises, in, his, results, the, berliner, learned, he, would, probably, die, from, mix,...   \n",
              "4  [hamilton, bermuda, cnn, four, chinese, nationals, of, uyghur, ethnicity, who, had, been, held, at, the, military, guantanamo, bay, cuba, detention, facility, have, been, resettled, in, bermuda, o...   \n",
              "5  [cnn, for, the, second, time, during, his, papacy, pope, francis, has, announced, new, group, of, bishops, and, archbishops, set, to, become, cardinals, and, they, come, from, all, over, the, worl...   \n",
              "6  [the, mayor, of, the, eastern, ukrainian, city, of, kharkiv, underwent, emergency, surgery, after, being, shot, in, the, back, city, officials, and, police, said, monday, amid, continuing, unrest,...   \n",
              "7  [cnn, the, men, and, boys, rescued, after, being, found, chained, this, week, at, an, islamic, religious, school, in, pakistan, have, been, reunited, with, their, families, or, placed, in, shelter...   \n",
              "\n",
              "                                                                                                                                                                                             clean_summary  \n",
              "0  [new, kyle, white, without, this, team, there, would, be, no, medal, of, honor, highlight, new, he, vows, to, live, up, to, the, responsibility, of, having, the, top, military, award, highlight, n...  \n",
              "1  [former, spain, national, coach, luis, aragones, passes, away, in, madrid, on, saturday, highlight, the, year, old, had, been, suffering, with, health, issues, since, his, retirement, last, year, ...  \n",
              "2  [year, old, boy, is, the, latest, victim, of, man, eating, leopard, local, police, chief, says, highlight, he, suspects, one, leopard, is, behind, the, deaths, of, people, in, the, past, months, h...  \n",
              "3  [fda, has, ordered, andme, to, stop, sales, of, its, home, genetic, testing, kits, highlight, andme, supporters, took, to, social, media, to, protest, the, fda, decision, highlight, genetic, testi...  \n",
              "4  [new, bermudan, premier, above, all, this, was, humanitarian, act, highlight, uyghurs, are, native, chinese, muslims, the, detainees, were, apprehended, in, pakistan, highlight, china, urges, to, ...  \n",
              "5  [the, new, cardinals, will, be, installed, on, february, highlight, they, come, from, countries, such, as, myanmar, and, tonga, highlight, no, americans, made, the, list, this, time, or, the, prev...  \n",
              "6  [the, european, union, announces, it, imposing, sanctions, on, people, highlight, defense, ministers, from, the, united, states, and, russia, discuss, ukraine, highlight, imposes, sanctions, again...  \n",
              "7  [captive, boys, and, men, were, rescued, from, an, islamic, religious, school, in, pakistan, highlight, they, were, reunited, with, their, families, this, week, highlight, the, facility, was, scho...  "
            ]
          },
          "metadata": {}
        }
      ]
    },
    {
      "cell_type": "code",
      "source": [
        "df.iloc[0,4]"
      ],
      "metadata": {
        "colab": {
          "base_uri": "https://localhost:8080/"
        },
        "id": "C6bxtXgNg3x9",
        "outputId": "a5b4375d-bcca-474f-ff5a-120712b4b67f"
      },
      "execution_count": 34,
      "outputs": [
        {
          "output_type": "execute_result",
          "data": {
            "text/plain": [
              "['new',\n",
              " 'kyle',\n",
              " 'white',\n",
              " 'without',\n",
              " 'this',\n",
              " 'team',\n",
              " 'there',\n",
              " 'would',\n",
              " 'be',\n",
              " 'no',\n",
              " 'medal',\n",
              " 'of',\n",
              " 'honor',\n",
              " 'highlight',\n",
              " 'new',\n",
              " 'he',\n",
              " 'vows',\n",
              " 'to',\n",
              " 'live',\n",
              " 'up',\n",
              " 'to',\n",
              " 'the',\n",
              " 'responsibility',\n",
              " 'of',\n",
              " 'having',\n",
              " 'the',\n",
              " 'top',\n",
              " 'military',\n",
              " 'award',\n",
              " 'highlight',\n",
              " 'new',\n",
              " 'obama',\n",
              " 'calls',\n",
              " 'white',\n",
              " 'soldier',\n",
              " 'who',\n",
              " 'embodies',\n",
              " 'the',\n",
              " 'courage',\n",
              " 'of',\n",
              " 'his',\n",
              " 'generation',\n",
              " 'highlight',\n",
              " 'the',\n",
              " 'army',\n",
              " 'vet',\n",
              " 'then',\n",
              " 'braved',\n",
              " 'enemy',\n",
              " 'fire',\n",
              " 'to',\n",
              " 'save',\n",
              " 'his',\n",
              " 'wounded',\n",
              " 'comrades',\n",
              " 'in',\n",
              " 'afghanistan']"
            ]
          },
          "metadata": {},
          "execution_count": 34
        }
      ]
    },
    {
      "cell_type": "code",
      "source": [
        "from sklearn.model_selection import train_test_split\n",
        "\n",
        "x_tr, x_val, y_tr, y_val = train_test_split(df['clean_text'],df['clean_summary'], test_size=0.2,random_state=42)"
      ],
      "metadata": {
        "id": "SQOIoobGj7sk"
      },
      "execution_count": 35,
      "outputs": []
    },
    {
      "cell_type": "code",
      "source": [
        "max_len_text=80 \n",
        "max_len_summary=10"
      ],
      "metadata": {
        "id": "Pe2ts1x6QHMP"
      },
      "execution_count": 36,
      "outputs": []
    },
    {
      "cell_type": "code",
      "source": [
        "nltk.download(\"punkt\")"
      ],
      "metadata": {
        "colab": {
          "base_uri": "https://localhost:8080/"
        },
        "id": "7S4KQkhtp9Pe",
        "outputId": "ae41b1b3-7ac8-4b5c-ae74-b8a97528663f"
      },
      "execution_count": 37,
      "outputs": [
        {
          "output_type": "stream",
          "name": "stdout",
          "text": [
            "[nltk_data] Downloading package punkt to /root/nltk_data...\n",
            "[nltk_data]   Package punkt is already up-to-date!\n"
          ]
        },
        {
          "output_type": "execute_result",
          "data": {
            "text/plain": [
              "True"
            ]
          },
          "metadata": {},
          "execution_count": 37
        }
      ]
    },
    {
      "cell_type": "code",
      "source": [
        "import numpy as np  \n",
        "import pandas as pd \n",
        "import re           \n",
        "from bs4 import BeautifulSoup \n",
        "from keras.preprocessing.text import Tokenizer \n",
        "from keras.preprocessing.sequence import pad_sequences\n",
        "from nltk.corpus import stopwords   \n",
        "from tensorflow.keras.layers import Input, LSTM, Embedding, Dense, Concatenate, TimeDistributed, Bidirectional\n",
        "from tensorflow.keras.models import Model\n",
        "from tensorflow.keras.callbacks import EarlyStopping\n",
        "import warnings\n",
        "pd.set_option(\"display.max_colwidth\", 200)\n",
        "warnings.filterwarnings(\"ignore\")"
      ],
      "metadata": {
        "id": "C4c-wAoHqb5h"
      },
      "execution_count": 38,
      "outputs": []
    },
    {
      "cell_type": "code",
      "source": [
        "#prepare a tokenizer for reviews on training data\n",
        "\n",
        "x_tokenizer = Tokenizer()\n",
        "x_tokenizer.fit_on_texts(list(x_tr))\n",
        "\n",
        "#convert text sequences into integer sequences\n",
        "x_tr    =   x_tokenizer.texts_to_sequences(x_tr) \n",
        "x_val   =   x_tokenizer.texts_to_sequences(x_val)\n",
        "\n",
        "#padding zero upto maximum length\n",
        "x_tr    =   pad_sequences(x_tr,  maxlen=max_len_text, padding='post') \n",
        "x_val   =   pad_sequences(x_val, maxlen=max_len_text, padding='post')\n",
        "\n",
        "x_voc_size   =  len(x_tokenizer.word_index) +1"
      ],
      "metadata": {
        "id": "nM_tJTtKPgJp"
      },
      "execution_count": 39,
      "outputs": []
    },
    {
      "cell_type": "code",
      "source": [
        "y_tokenizer = Tokenizer()\n",
        "y_tokenizer.fit_on_texts(list(y_tr))\n",
        "\n",
        "#convert summary sequences into integer sequences\n",
        "y_tr    =   y_tokenizer.texts_to_sequences(y_tr) \n",
        "y_val   =   y_tokenizer.texts_to_sequences(y_val) \n",
        "\n",
        "#padding zero upto maximum length\n",
        "y_tr    =   pad_sequences(y_tr, maxlen=max_len_summary, padding='post')\n",
        "y_val   =   pad_sequences(y_val, maxlen=max_len_summary, padding='post')\n",
        "\n",
        "y_voc_size  =   len(y_tokenizer.word_index) +1"
      ],
      "metadata": {
        "id": "iu2Sd9VvPgVb"
      },
      "execution_count": 40,
      "outputs": []
    },
    {
      "cell_type": "code",
      "source": [
        "import numpy as np  \n",
        "import pandas as pd \n",
        "import re           \n",
        "from bs4 import BeautifulSoup \n",
        "from keras.preprocessing.text import Tokenizer \n",
        "from keras.preprocessing.sequence import pad_sequences\n",
        "from nltk.corpus import stopwords   \n",
        "from tensorflow.keras.layers import Input, LSTM, Embedding, Dense, Concatenate, TimeDistributed, Bidirectional\n",
        "from tensorflow.keras.models import Model\n",
        "from tensorflow.keras.callbacks import EarlyStopping\n",
        "import warnings\n",
        "pd.set_option(\"display.max_colwidth\", 200)\n",
        "warnings.filterwarnings(\"ignore\")"
      ],
      "metadata": {
        "id": "bYT5_z2EPgb8"
      },
      "execution_count": 41,
      "outputs": []
    },
    {
      "cell_type": "code",
      "source": [
        "#Attention Mechanism\n",
        "import tensorflow as tf\n",
        "class AttentionLayer(tf.keras.layers.Layer):\n",
        "  def __init__(self, units):\n",
        "    super(AttentionLayer, self).__init__()\n",
        "    self.W1 = tf.keras.layers.Dense(units)\n",
        "    self.W2 = tf.keras.layers.Dense(units)\n",
        "    self.V = tf.keras.layers.Dense(1)\n",
        "\n",
        "  def call(self, query, values):\n",
        "    # query hidden state shape == (batch_size, hidden size)\n",
        "    # values shape == (batch_size, max_len, hidden size)\n",
        "\n",
        "    # we are doing this to broadcast addition along the time axis to calculate the score\n",
        "    # query_with_time_axis shape == (batch_size, 1, hidden size)\n",
        "    query_with_time_axis = tf.expand_dims(query, 1)\n",
        "\n",
        "    # score shape == (batch_size, max_length, 1)\n",
        "    # we get 1 at the last axis because we are applying score to self.V\n",
        "    # the shape of the tensor before applying self.V is (batch_size, max_length, units)\n",
        "    score = self.V(tf.nn.tanh(\n",
        "        self.W1(query_with_time_axis) + self.W2(values)))\n",
        "\n",
        "    # attention_weights shape == (batch_size, max_length, 1)\n",
        "    attention_weights = tf.nn.softmax(score, axis=1)\n",
        "\n",
        "    # context_vector shape after sum == (batch_size, hidden_size)\n",
        "    context_vector = attention_weights * values\n",
        "    context_vector = tf.reduce_sum(context_vector, axis=1)\n",
        "\n",
        "    return context_vector, attention_weights"
      ],
      "metadata": {
        "id": "zu642hh8W6fF"
      },
      "execution_count": 43,
      "outputs": []
    },
    {
      "cell_type": "code",
      "source": [
        "from keras import backend as K \n",
        "K.clear_session() \n",
        "latent_dim = 500 \n",
        "\n",
        "# Encoder \n",
        "encoder_inputs = Input(shape=(max_len_text,)) \n",
        "enc_emb = Embedding(x_voc_size, latent_dim,trainable=True)(encoder_inputs) \n",
        "\n",
        "#LSTM 1 \n",
        "encoder_lstm1 = LSTM(latent_dim,return_sequences=True,return_state=True) \n",
        "encoder_output1, state_h1, state_c1 = encoder_lstm1(enc_emb) \n",
        "\n",
        "#LSTM 2 \n",
        "encoder_lstm2 = LSTM(latent_dim,return_sequences=True,return_state=True) \n",
        "encoder_output2, state_h2, state_c2 = encoder_lstm2(encoder_output1) \n",
        "\n",
        "#LSTM 3 \n",
        "encoder_lstm3=LSTM(latent_dim, return_state=True, return_sequences=True) \n",
        "encoder_outputs, state_h, state_c= encoder_lstm3(encoder_output2) \n",
        "\n",
        "# Set up the decoder. \n",
        "decoder_inputs = Input(shape=(None,)) \n",
        "dec_emb_layer = Embedding(y_voc_size, latent_dim,trainable=True) \n",
        "dec_emb = dec_emb_layer(decoder_inputs) \n",
        "\n",
        "#LSTM using encoder_states as initial state\n",
        "decoder_lstm = LSTM(latent_dim, return_sequences=True, return_state=True) \n",
        "decoder_outputs,decoder_fwd_state, decoder_back_state = decoder_lstm(dec_emb,initial_state=[state_h, state_c]) \n",
        "\n",
        "\n",
        "\n",
        "#Dense layer\n",
        "decoder_dense = TimeDistributed(Dense(y_voc_size, activation='softmax')) \n",
        "#decoder_outputs = decoder_dense(decoder_concat_input) \n",
        "\n",
        "# Define the model\n",
        "model = Model([encoder_inputs, decoder_inputs], decoder_outputs) \n",
        "model.summary()\n"
      ],
      "metadata": {
        "colab": {
          "base_uri": "https://localhost:8080/"
        },
        "id": "wXgDhblQRJOx",
        "outputId": "62b5cd59-b622-461c-d8f1-7793fc7c02a3"
      },
      "execution_count": 44,
      "outputs": [
        {
          "output_type": "stream",
          "name": "stdout",
          "text": [
            "Model: \"model\"\n",
            "__________________________________________________________________________________________________\n",
            " Layer (type)                   Output Shape         Param #     Connected to                     \n",
            "==================================================================================================\n",
            " input_1 (InputLayer)           [(None, 80)]         0           []                               \n",
            "                                                                                                  \n",
            " embedding (Embedding)          (None, 80, 500)      757500      ['input_1[0][0]']                \n",
            "                                                                                                  \n",
            " lstm (LSTM)                    [(None, 80, 500),    2002000     ['embedding[0][0]']              \n",
            "                                 (None, 500),                                                     \n",
            "                                 (None, 500)]                                                     \n",
            "                                                                                                  \n",
            " input_2 (InputLayer)           [(None, None)]       0           []                               \n",
            "                                                                                                  \n",
            " lstm_1 (LSTM)                  [(None, 80, 500),    2002000     ['lstm[0][0]']                   \n",
            "                                 (None, 500),                                                     \n",
            "                                 (None, 500)]                                                     \n",
            "                                                                                                  \n",
            " embedding_1 (Embedding)        (None, None, 500)    98500       ['input_2[0][0]']                \n",
            "                                                                                                  \n",
            " lstm_2 (LSTM)                  [(None, 80, 500),    2002000     ['lstm_1[0][0]']                 \n",
            "                                 (None, 500),                                                     \n",
            "                                 (None, 500)]                                                     \n",
            "                                                                                                  \n",
            " lstm_3 (LSTM)                  [(None, None, 500),  2002000     ['embedding_1[0][0]',            \n",
            "                                 (None, 500),                     'lstm_2[0][1]',                 \n",
            "                                 (None, 500)]                     'lstm_2[0][2]']                 \n",
            "                                                                                                  \n",
            "==================================================================================================\n",
            "Total params: 8,864,000\n",
            "Trainable params: 8,864,000\n",
            "Non-trainable params: 0\n",
            "__________________________________________________________________________________________________\n"
          ]
        }
      ]
    },
    {
      "cell_type": "code",
      "source": [
        "model.compile(optimizer='rmsprop', loss='sparse_categorical_crossentropy')"
      ],
      "metadata": {
        "id": "zq3qwfnnW2LW"
      },
      "execution_count": 45,
      "outputs": []
    },
    {
      "cell_type": "code",
      "source": [
        "es = EarlyStopping(monitor='val_loss', mode='min', verbose=1)"
      ],
      "metadata": {
        "id": "n48G3YquRWmR"
      },
      "execution_count": 46,
      "outputs": []
    },
    {
      "cell_type": "code",
      "source": [
        "history=model.fit([x_tr,y_tr[:,:-1]], y_tr.reshape(y_tr.shape[0],y_tr.shape[1], 1)[:,1:] ,epochs=50,callbacks=[es],batch_size=512, validation_data=([x_val,y_val[:,:-1]], y_val.reshape(y_val.shape[0],y_val.shape[1], 1)[:,1:]))"
      ],
      "metadata": {
        "colab": {
          "base_uri": "https://localhost:8080/"
        },
        "id": "eNw_esduRWtp",
        "outputId": "fd74bb2c-957b-4b96-f0df-3c4b88ed934f"
      },
      "execution_count": 47,
      "outputs": [
        {
          "output_type": "stream",
          "name": "stdout",
          "text": [
            "Epoch 1/50\n",
            "1/1 [==============================] - 14s 14s/step - loss: 9.6459 - val_loss: 11.2782\n",
            "Epoch 2/50\n",
            "1/1 [==============================] - 3s 3s/step - loss: 7.7029 - val_loss: 10.8798\n",
            "Epoch 2: early stopping\n"
          ]
        }
      ]
    },
    {
      "cell_type": "code",
      "source": [
        "from matplotlib import pyplot \n",
        "pyplot.plot(history.history['loss'], label='train') \n",
        "pyplot.plot(history.history['val_loss'], label='test') \n",
        "pyplot.legend() \n",
        "pyplot.show()"
      ],
      "metadata": {
        "colab": {
          "base_uri": "https://localhost:8080/",
          "height": 265
        },
        "id": "f6A-Zn_2RJYe",
        "outputId": "64f51e34-dd53-4351-bdce-fb8375d8aa65"
      },
      "execution_count": 48,
      "outputs": [
        {
          "output_type": "display_data",
          "data": {
            "image/png": "[encoded data removed]",
            "text/plain": [
              "<Figure size 432x288 with 1 Axes>"
            ]
          },
          "metadata": {
            "needs_background": "light"
          }
        }
      ]
    },
    {
      "cell_type": "code",
      "source": [
        ""
      ],
      "metadata": {
        "id": "mjyprJJaRJg4"
      },
      "execution_count": null,
      "outputs": []
    },
    {
      "cell_type": "code",
      "source": [
        "\n"
      ],
      "metadata": {
        "id": "fAqDrUGbPgg_"
      },
      "execution_count": null,
      "outputs": []
    },
    {
      "cell_type": "code",
      "source": [
        ""
      ],
      "metadata": {
        "id": "dxDQ1c9lPglm"
      },
      "execution_count": null,
      "outputs": []
    },
    {
      "cell_type": "code",
      "source": [
        ""
      ],
      "metadata": {
        "id": "mdq1mPzDbUuS"
      },
      "execution_count": null,
      "outputs": []
    },
    {
      "cell_type": "code",
      "source": [
        ""
      ],
      "metadata": {
        "id": "82StFVRhbUz_"
      },
      "execution_count": 48,
      "outputs": []
    },
    {
      "cell_type": "code",
      "source": [
        ""
      ],
      "metadata": {
        "id": "B7P8Jf6BbU36"
      },
      "execution_count": null,
      "outputs": []
    },
    {
      "cell_type": "code",
      "source": [
        ""
      ],
      "metadata": {
        "id": "YbnL1ExUbU71"
      },
      "execution_count": null,
      "outputs": []
    },
    {
      "cell_type": "code",
      "source": [
        ""
      ],
      "metadata": {
        "id": "6EkexqyXPgqR"
      },
      "execution_count": null,
      "outputs": []
    },
    {
      "cell_type": "code",
      "source": [
        ""
      ],
      "metadata": {
        "id": "pH6CGiGyv8uK"
      },
      "execution_count": 48,
      "outputs": []
    },
    {
      "cell_type": "code",
      "source": [
        ""
      ],
      "metadata": {
        "id": "CagHLiORwxBe"
      },
      "execution_count": 48,
      "outputs": []
    },
    {
      "cell_type": "code",
      "source": [
        ""
      ],
      "metadata": {
        "id": "wEU4Mmq3wj2Z"
      },
      "execution_count": 48,
      "outputs": []
    },
    {
      "cell_type": "code",
      "source": [
        ""
      ],
      "metadata": {
        "id": "te8bSw9_w_Wt"
      },
      "execution_count": 48,
      "outputs": []
    },
    {
      "cell_type": "code",
      "source": [
        "\n"
      ],
      "metadata": {
        "id": "x49ymNVdwG6y"
      },
      "execution_count": 48,
      "outputs": []
    },
    {
      "cell_type": "code",
      "source": [
        ""
      ],
      "metadata": {
        "id": "H8Yuk-BO0YYg"
      },
      "execution_count": 48,
      "outputs": []
    },
    {
      "cell_type": "code",
      "source": [
        ""
      ],
      "metadata": {
        "id": "ux6LDJyj0dnw"
      },
      "execution_count": 48,
      "outputs": []
    },
    {
      "cell_type": "code",
      "source": [
        ""
      ],
      "metadata": {
        "id": "ItvX0ij10in_"
      },
      "execution_count": 48,
      "outputs": []
    },
    {
      "cell_type": "code",
      "source": [
        ""
      ],
      "metadata": {
        "id": "MHKaNYRF0qa8"
      },
      "execution_count": 48,
      "outputs": []
    },
    {
      "cell_type": "code",
      "source": [
        ""
      ],
      "metadata": {
        "id": "Rg1A6bIcy_uu"
      },
      "execution_count": 48,
      "outputs": []
    },
    {
      "cell_type": "code",
      "source": [
        ""
      ],
      "metadata": {
        "id": "B4faNvgTzEo5"
      },
      "execution_count": 48,
      "outputs": []
    },
    {
      "cell_type": "code",
      "source": [
        ""
      ],
      "metadata": {
        "id": "83IxMM5Qz-ZI"
      },
      "execution_count": 48,
      "outputs": []
    },
    {
      "cell_type": "code",
      "source": [
        ""
      ],
      "metadata": {
        "id": "3pymAlrV1qdh"
      },
      "execution_count": 48,
      "outputs": []
    },
    {
      "cell_type": "code",
      "source": [
        ""
      ],
      "metadata": {
        "id": "Na3Sm2vp0Zpk"
      },
      "execution_count": 48,
      "outputs": []
    },
    {
      "cell_type": "code",
      "source": [
        ""
      ],
      "metadata": {
        "id": "BZEJIj7K2DKh"
      },
      "execution_count": 48,
      "outputs": []
    },
    {
      "cell_type": "code",
      "source": [
        ""
      ],
      "metadata": {
        "id": "-CBZsPPL2jr0"
      },
      "execution_count": 49,
      "outputs": []
    },
    {
      "cell_type": "code",
      "source": [
        ""
      ],
      "metadata": {
        "id": "8x3fF9-k4ZCK"
      },
      "execution_count": 49,
      "outputs": []
    },
    {
      "cell_type": "code",
      "source": [
        ""
      ],
      "metadata": {
        "id": "S6aqyRyo3RBO"
      },
      "execution_count": 49,
      "outputs": []
    },
    {
      "cell_type": "code",
      "source": [
        ""
      ],
      "metadata": {
        "id": "XNxugaOv3HzW"
      },
      "execution_count": 49,
      "outputs": []
    },
    {
      "cell_type": "code",
      "source": [
        ""
      ],
      "metadata": {
        "id": "SU1doiu10Ltm"
      },
      "execution_count": 49,
      "outputs": []
    },
    {
      "cell_type": "code",
      "source": [
        ""
      ],
      "metadata": {
        "id": "LjRjwoosyBuL"
      },
      "execution_count": 50,
      "outputs": []
    },
    {
      "cell_type": "code",
      "source": [
        ""
      ],
      "metadata": {
        "id": "JKLWIjRipMZ_"
      },
      "execution_count": null,
      "outputs": []
    },
    {
      "cell_type": "code",
      "source": [
        ""
      ],
      "metadata": {
        "id": "ru9WFRkttn9g"
      },
      "execution_count": 50,
      "outputs": []
    },
    {
      "cell_type": "code",
      "source": [
        ""
      ],
      "metadata": {
        "id": "co3SOav7tjm4"
      },
      "execution_count": null,
      "outputs": []
    },
    {
      "cell_type": "code",
      "source": [
        ""
      ],
      "metadata": {
        "id": "iVd5zHZvuBK4"
      },
      "execution_count": 50,
      "outputs": []
    },
    {
      "cell_type": "code",
      "source": [
        ""
      ],
      "metadata": {
        "id": "3SRrO6Zfw3OO"
      },
      "execution_count": 50,
      "outputs": []
    },
    {
      "cell_type": "code",
      "source": [
        ""
      ],
      "metadata": {
        "id": "ipqujUsvxEHp"
      },
      "execution_count": 50,
      "outputs": []
    },
    {
      "cell_type": "code",
      "source": [
        ""
      ],
      "metadata": {
        "id": "BXIrn9yEyZax"
      },
      "execution_count": 50,
      "outputs": []
    },
    {
      "cell_type": "code",
      "source": [
        ""
      ],
      "metadata": {
        "id": "8WEUIvpRiH4y"
      },
      "execution_count": 50,
      "outputs": []
    },
    {
      "cell_type": "code",
      "source": [
        ""
      ],
      "metadata": {
        "id": "9tYuR2zCjTFs"
      },
      "execution_count": 51,
      "outputs": []
    },
    {
      "cell_type": "code",
      "source": [
        ""
      ],
      "metadata": {
        "id": "fAYmVDLWlVyj"
      },
      "execution_count": 51,
      "outputs": []
    },
    {
      "cell_type": "code",
      "source": [
        ""
      ],
      "metadata": {
        "id": "7ghf7aGQl0je"
      },
      "execution_count": null,
      "outputs": []
    },
    {
      "cell_type": "code",
      "source": [
        ""
      ],
      "metadata": {
        "id": "5Qvt09sEmAa-"
      },
      "execution_count": null,
      "outputs": []
    },
    {
      "cell_type": "code",
      "source": [
        ""
      ],
      "metadata": {
        "id": "sZpRE2L0mK6c"
      },
      "execution_count": 52,
      "outputs": []
    },
    {
      "cell_type": "code",
      "source": [
        ""
      ],
      "metadata": {
        "id": "OqPsYa1dqT9r"
      },
      "execution_count": 52,
      "outputs": []
    },
    {
      "cell_type": "code",
      "source": [
        ""
      ],
      "metadata": {
        "id": "FtQO4pSvqezt"
      },
      "execution_count": null,
      "outputs": []
    },
    {
      "cell_type": "code",
      "source": [
        ""
      ],
      "metadata": {
        "id": "l0h7ntYNqjR7"
      },
      "execution_count": null,
      "outputs": []
    },
    {
      "cell_type": "code",
      "source": [
        ""
      ],
      "metadata": {
        "id": "5gcnFMCmuify"
      },
      "execution_count": 52,
      "outputs": []
    },
    {
      "cell_type": "code",
      "source": [
        ""
      ],
      "metadata": {
        "id": "fpLotJbUrB0H"
      },
      "execution_count": 52,
      "outputs": []
    },
    {
      "cell_type": "code",
      "source": [
        "\n"
      ],
      "metadata": {
        "id": "4lm3zXK2q2v6"
      },
      "execution_count": 52,
      "outputs": []
    },
    {
      "cell_type": "code",
      "source": [
        ""
      ],
      "metadata": {
        "id": "-AKVCcpZso0M"
      },
      "execution_count": null,
      "outputs": []
    },
    {
      "cell_type": "code",
      "source": [
        ""
      ],
      "metadata": {
        "id": "VxcKrMOLs9Lu"
      },
      "execution_count": null,
      "outputs": []
    },
    {
      "cell_type": "code",
      "source": [
        ""
      ],
      "metadata": {
        "id": "ptBNxmGnt_9E"
      },
      "execution_count": null,
      "outputs": []
    },
    {
      "cell_type": "code",
      "source": [
        ""
      ],
      "metadata": {
        "id": "vsNRxNvTtELs"
      },
      "execution_count": null,
      "outputs": []
    },
    {
      "cell_type": "code",
      "source": [
        ""
      ],
      "metadata": {
        "id": "2hkLWm9_uBaS"
      },
      "execution_count": null,
      "outputs": []
    }
  ]
}